{
 "cells": [
  {
   "cell_type": "markdown",
   "metadata": {},
   "source": [
    "# A Statistical Examination of the Stroop Effect\n",
    "## Jeffrey Kalmanson\n",
    "<hr style=\"border-color: #808080;\">\n",
    "     \n",
    "## The Stroop Effect\n",
    "\n",
    "The Stroop effect is a demonstration of cognitive interference in the reaction time of a task. When the name of a color (e.g. \"blue\") is printed in a color that is not denoted by the name (e.g. the word \"red\" is printed in blue ink instead of red ink), naming the color of the word takes longer and is more prone to errors than when the color of the ink matches the name of the color. The effect is named after John Ridley Stroop and is one of the most cited papers in experimental psychology."
   ]
  },
  {
   "cell_type": "markdown",
   "metadata": {},
   "source": [
    "## Introduction\n",
    "\n",
    "This project replicates Stroop's experiment with 24 subjects. The participant's task is to say out loud the color of the ink in which the word is printed. The task has two conditions: congruent and incongruent. In the congruent words condition, the words being displayed are color words whose names match the colors in which they are printed. In the incongruent words condition, the words displayed are color words whose names do not match the colors in which they are printed. In each case, we measure the time it takes to name the ink colors in equally sized lists. Each participant records a time for each condition."
   ]
  },
  {
   "cell_type": "markdown",
   "metadata": {},
   "source": [
    "## Statistical Measures\n",
    "\n",
    "The dependent variable is time in seconds -- the time measured for a subject to complete each test. The independent variable is the type of test administered -- first the congruent test, followed by the incongruent test. We are experimenting with the color of the words and observing the time taken to name the ink color."
   ]
  },
  {
   "cell_type": "code",
   "execution_count": 1,
   "metadata": {},
   "outputs": [
    {
     "name": "stdout",
     "output_type": "stream",
     "text": [
      "\n",
      "Descriptive Statistics\n",
      "----------------------\n",
      "\n",
      "Congruent:\n",
      "n: 24\n",
      "Mean: 14.05\n",
      "Median: 14.36\n",
      "Standard deviation (sample): 3.56\n",
      "Range: 13.70   Low: 8.63   High: 22.33\n",
      "\n",
      "Incongruent:\n",
      "n: 24\n",
      "Mean: 22.02\n",
      "Median: 21.02\n",
      "Standard deviation (sample): 4.80\n",
      "Range: 19.57   Low: 15.69   High: 35.26\n",
      "\n"
     ]
    }
   ],
   "source": [
    "import math\n",
    "import statistics as stats\n",
    "\n",
    "congruent = [12.079, 16.791, 9.564, 8.63, 14.669, 12.238, 14.692, 8.987, 9.401, 14.48, 22.328, 15.298, \n",
    "             15.073, 16.929, 18.2, 12.13, 18.495, 10.639, 11.344, 12.369, 12.944, 14.233, 19.71, 16.004]\n",
    "\n",
    "incongruent = [19.278, 18.741, 21.214, 15.687, 22.803, 20.878, 24.572, 17.394, 20.762, 26.282, 24.524, \n",
    "               18.644, 17.51, 20.33, 35.255, 22.158, 25.139, 20.429, 17.425, 34.288, 23.894, 17.96,\n",
    "               22.058, 21.157]\n",
    "#\n",
    "# Defining my own functions to demonstrate coding ability\n",
    "#\n",
    "# stats.median(data)\n",
    "def median(alist):\n",
    "    sortlist = quicksort(alist)\n",
    "    n = len(alist)\n",
    "    if n%2 == 0:    # list is even length\n",
    "        i = int(n/2)\n",
    "        return (sortlist[i] + sortlist[i - 1]) / 2   # average of the two middle elements\n",
    "    else:\n",
    "        i = int((n + 1)/2 - 1)\n",
    "        return sortlist[i]\n",
    "\n",
    "# stats.mean(data)\n",
    "def mean(alist):\n",
    "    sum = 0.0\n",
    "    n = len(alist)\n",
    "    for e in alist:\n",
    "        sum += e\n",
    "    return sum/n\n",
    "\n",
    "# stats.stdev(data)\n",
    "def stddev(alist):\n",
    "    sum = 0.0\n",
    "    n = len(alist)\n",
    "    avrg = mean(alist)\n",
    "    for e in alist:\n",
    "        sum += (e - avrg)**2\n",
    "    return math.sqrt(sum/(n-1))\n",
    "\n",
    "# numpy.ptp(data)\n",
    "def range_lo_hi(alist):\n",
    "    sortlist = quicksort(alist)\n",
    "    return sortlist[len(sortlist) - 1] - sortlist[0], sortlist[0], sortlist[len(sortlist) - 1]\n",
    "\n",
    "# sorted(data)\n",
    "def quicksort(alist):\n",
    "    left, middle, right = [], [], []\n",
    "    \n",
    "    if len(alist) <= 1:   # recursion base case\n",
    "        return alist\n",
    "    \n",
    "    pivot = alist[int(len(alist) / 2)]\n",
    "    \n",
    "    for e in alist:\n",
    "        if e < pivot:\n",
    "            left.append(e)\n",
    "            \n",
    "    for e in alist:\n",
    "        if e == pivot:\n",
    "            middle.append(e)\n",
    "            \n",
    "    for e in alist:\n",
    "        if e > pivot:\n",
    "            right.append(e)\n",
    "            \n",
    "    return quicksort(left) + middle + quicksort(right)\n",
    "\n",
    "mean_congruent = mean(congruent)\n",
    "mean_incongruent = mean(incongruent)\n",
    "\n",
    "print ('\\n' + \"Descriptive Statistics\")\n",
    "print(\"----------------------\" + '\\n')\n",
    "print(\"Congruent:\")\n",
    "print(\"n: \" + str(len(congruent)))\n",
    "print(\"Mean: \" + str('{0:.2f}'.format(mean_congruent)))\n",
    "print(\"Median: \" + str('{0:.2f}'.format(median(congruent))))\n",
    "print(\"Standard deviation (sample): \" + str('{0:.2f}'.format(stddev(congruent))))\n",
    "range, lo, hi = range_lo_hi(congruent)\n",
    "print(\"Range: \" + str('{0:.2f}'.format(range)) + \"   Low: \" + str('{0:.2f}'.format(lo)) + \"   High: \" + \n",
    "      str('{0:.2f}'.format(hi)))\n",
    "\n",
    "print('\\n' + \"Incongruent:\")\n",
    "print(\"n: \" + str(len(incongruent)))\n",
    "print(\"Mean: \" + str('{0:.2f}'.format(mean_incongruent)))\n",
    "print(\"Median: \" + str('{0:.2f}'.format(median(incongruent))))\n",
    "print(\"Standard deviation (sample): \" + str('{0:.2f}'.format(stddev(incongruent))))\n",
    "range, lo, hi = range_lo_hi(incongruent)\n",
    "print(\"Range: \" + str('{0:.2f}'.format(range)) + \"   Low: \" + str('{0:.2f}'.format(lo)) + \"   High: \" + \n",
    "      str('{0:.2f}'.format(hi)) + '\\n')"
   ]
  },
  {
   "cell_type": "code",
   "execution_count": 4,
   "metadata": {},
   "outputs": [
    {
     "name": "stdout",
     "output_type": "stream",
     "text": [
      "This is the format of your plot grid:\n",
      "[ (1,1) x1,y1 ]\n",
      "[ (2,1) x2,y2 ]\n",
      "\n"
     ]
    },
    {
     "data": {
      "text/html": [
       "<iframe id=\"igraph\" scrolling=\"no\" style=\"border:none;\" seamless=\"seamless\" src=\"https://plot.ly/~cheetah/172.embed\" height=\"750px\" width=\"900px\"></iframe>"
      ],
      "text/plain": [
       "<plotly.tools.PlotlyDisplay object>"
      ]
     },
     "execution_count": 4,
     "metadata": {},
     "output_type": "execute_result"
    }
   ],
   "source": [
    "from plotly import tools\n",
    "import plotly.plotly as plt\n",
    "import plotly.graph_objs as go\n",
    "\n",
    "trace1 = go.Histogram(\n",
    "    x = congruent, \n",
    "    opacity = 0.8, \n",
    "    marker = dict(color = '#00CC99'), \n",
    "    name = 'Congruent', \n",
    "    xbins = dict(start = 5, end = 25, size = 1)\n",
    ")\n",
    "\n",
    "trace2 = go.Histogram(\n",
    "    x = incongruent,  \n",
    "    opacity = 0.65, \n",
    "    name = 'Incongruent', \n",
    "    marker = dict(color = '#FF0035'), \n",
    "    xbins = dict(start = 15, end = 40, size = 1)\n",
    ")\n",
    "\n",
    "fig = tools.make_subplots(rows = 2, cols = 1)   # shared_xaxes = True\n",
    "\n",
    "fig.append_trace(trace1, 1, 1)\n",
    "fig.append_trace(trace2, 2, 1)\n",
    "\n",
    "fig['layout'].update(height = 750, width = 900)\n",
    "\n",
    "fig['layout']['xaxis1'].update(range=[7, 37], autotick = False, tick0 = 0, dtick = 2)  # showticklabels = False\n",
    "fig['layout']['xaxis2'].update(title='Time in seconds', range=[7, 37], autotick = False, tick0 = 0, dtick = 2)\n",
    "fig['layout']['yaxis1'].update(title='Frequency', range=[0, 5, 1], )\n",
    "fig['layout']['yaxis2'].update(title='Frequency', range=[0, 5, 1], )\n",
    "\n",
    "fig['layout'].update(bargap = 0.1)  # barmode = 'overlay'\n",
    "fig['layout'].update(title='Data Distribution Comparison')\n",
    "\n",
    "plt.iplot(fig)"
   ]
  },
  {
   "cell_type": "markdown",
   "metadata": {},
   "source": [
    "### Histogram\n",
    "The graph shows a distinct shift of the distribution to longer times for the incongruent test. The data are somewhat normally distributed."
   ]
  },
  {
   "cell_type": "code",
   "execution_count": 4,
   "metadata": {},
   "outputs": [
    {
     "name": "stdout",
     "output_type": "stream",
     "text": [
      "\n"
     ]
    },
    {
     "data": {
      "image/png": "[encoded data removed]",
      "text/plain": [
       "<matplotlib.figure.Figure at 0x109f159e8>"
      ]
     },
     "metadata": {},
     "output_type": "display_data"
    }
   ],
   "source": [
    "%matplotlib inline \n",
    "import matplotlib as mpl\n",
    "import matplotlib.pyplot as plt\n",
    "\n",
    "data_to_plot = [congruent, incongruent]\n",
    "\n",
    "# Create a figure instance\n",
    "fig = plt.figure(1, figsize=(9, 6))\n",
    "\n",
    "# Create an axes instance\n",
    "ax = fig.add_subplot(111)\n",
    "\n",
    "# Format the outliers\n",
    "flierprops = dict(marker='o', markerfacecolor='orange', markeredgecolor='white')\n",
    "\n",
    "# Create the boxplot\n",
    "bp = ax.boxplot(data_to_plot, flierprops=flierprops)\n",
    "\n",
    "# Add color\n",
    "plt.setp(bp['whiskers'], color='blue')\n",
    "plt.setp(bp['caps'], color = 'green')\n",
    "\n",
    "## Custom axes labels\n",
    "ax.set_xticklabels(['\\n Congruent', '\\n Incongruent'], fontsize=12)\n",
    "ax.yaxis.set_tick_params(labelsize=12)\n",
    "\n",
    "plt.tick_params(\n",
    "    axis='x',          # changes apply to the x-axis\n",
    "    which='both',      # both major and minor ticks are affected\n",
    "    bottom='off',      # ticks along the bottom edge are off\n",
    "    top='off'          # ticks along the top edge are off\n",
    "    )\n",
    "\n",
    "plt.ylabel('Time in seconds \\n', fontsize=12)\n",
    "plt.title('Box Plot \\n', fontsize=16)\n",
    "print()\n",
    "\n",
    "plt.show()"
   ]
  },
  {
   "cell_type": "markdown",
   "metadata": {},
   "source": [
    "### Box Plot\n",
    "The box plot shows the outliers in the incongruent data."
   ]
  },
  {
   "cell_type": "markdown",
   "metadata": {},
   "source": [
    "## Experiment Design\n",
    "\n",
    "This is a within-subjects design. The advantage of this type of experiment is reduced errors associated with individual differences. Drawbacks of this design are carryover effects and practice effects.\n",
    "\n",
    "## Statistical Test\n",
    "\n",
    "A dependent t-test for paired samples is performed. Each subject takes both tests and the times are measured. The test examines whether the difference in times are statistically significant. This means we can say with measured confidence whether the treatment is causing the effect -- the effect is, or is not being caused by chance, and how confident we are in our estimation.      \n",
    "   \n",
    "A hypothesis test is used to determine how close a sample mean is to the population mean. In this experiment, we want to determine whether the differences in the test times can be attributed to the incongruency and how confident we are of the result. We can use a hypothesis test to determine how close the mean difference in test times is to a zero difference. The paired t-test allows us to infer the behavior of the population from the samples.\n",
    "\n",
    "### t-test versus z-test\n",
    "\n",
    "We use a t-test instead of a z-test because the population standard deviation is not known and the sample size is small (n < 30). The t-test is robust against the assumption of population normality. The tests are often valid even when the assumption of normality is violated, but only if the distribution is not highly skewed for a one-tailed t-test.     \n",
    "\n",
    "### Dependent Means t-test Assumptions\n",
    "\n",
    "* Interval or ratio measurement\n",
    "* Random sampling from a defined population\n",
    "* Samples used to produce the difference scores are linked with the population through repeated measurement, natural association, or matching\n",
    "* Scores are normally distributed in the population. Score differences are normally distributed\n",
    "\n",
    "## Hypothesis Test\n",
    "A hypothesis test is a statistical test that is used to determine whether there is enough evidence in a sample of data to infer that a certain condition is true for the entire population.    \n",
    "    \n",
    "A hypothesis test examines two opposing hypotheses about a population. The null hypothesis is the statement being tested. Usually the null hypothesis is a statement of \"no effect\" or \"no difference\". The alternative hypothesis is the statement we want to conclude is true.    \n",
    "\n",
    "<span style=\"font-size: 20px\">\n",
    "<i>H</i><sub>0</sub>: <i>μ<sub>incongruent</sub></i>  =  <i>μ<sub>congruent</sub></i></span>     \n",
    "or `   ` <span style=\"font-size: 20px\"><i>μ<sub>incongruent</sub></i> - <i>μ<sub>congruent</sub></i> = 0</span>    \n",
    "\n",
    "The null hypothesis, <span style=\"font-size: 20px\"> <i>H</i><sub>0</sub></span> , states there is no difference in times to complete each test     \n",
    "where ` ` <span style=\"font-size: 20px\"><i>μ</i></span>  is the population mean\n",
    "\n",
    "<span style=\"font-size: 20px\">\n",
    "<i>H</i><sub>A</sub>:  <i>μ<sub>incongruent</sub></i>  ≠  <i>μ<sub>congruent</sub></i></span>     \n",
    "or `   ` <span style=\"font-size: 20px\"><i>μ<sub>incongruent</sub></i> - <i>μ<sub>congruent</sub></i> ≠ 0</span>    \n",
    "\n",
    "The alternative hypothesis, <span style=\"font-size: 20px\"> <i>H</i><sub>A</sub></span> , states there is a difference in times to complete each test. It does not say longer or shorter times, only the times are different.       \n",
    "\n",
    "## Inferential Statistics\n",
    "\n",
    "We take multiple samples from the population, and use those samples in our statistical test to infer characteristics about the population. We are interested in the difference of times between the two treatments across subjects. Therefore, we use the difference between the sample means in our paired two-tailed t-test.   \n",
    "<br><span style=\"font-size: 20px\"><i>\n",
    "t-test: x̅<sub>incongruent</sub></i> - <i>x̅<sub>congruent</sub></i></span>     \n",
    "where `  ` <span style=\"font-size: 20px\"><i>x̅</i></span>  is the sample mean     \n",
    "\n",
    "The idea is to determine if the mean of the differences across the samples is statistically different from a zero difference. This provides a way of validating or invalidating the population null hypothesis with a given confidence level. Then we can say whether the treatment is causing the difference with a certain surety and the result models the population."
   ]
  },
  {
   "cell_type": "code",
   "execution_count": 2,
   "metadata": {},
   "outputs": [
    {
     "name": "stdout",
     "output_type": "stream",
     "text": [
      "\n",
      "Descriptive Statistics\n",
      "----------------------\n",
      "\n",
      "Differences:\n",
      "n: 24\n",
      "Mean: 7.96\n",
      "Median: 7.67\n",
      "Standard deviation (sample): 4.86\n",
      "Range: 19.97   Low: 1.95   High: 21.92\n",
      "\n"
     ]
    }
   ],
   "source": [
    "from __future__ import (absolute_import, division,\n",
    "                        print_function, unicode_literals)\n",
    "from future import standard_library\n",
    "standard_library.install_aliases()\n",
    "from future.builtins import (\n",
    "         bytes, dict, int, list, object, range, str,\n",
    "         ascii, chr, hex, input, next, oct, open,\n",
    "         pow, round, super, filter, map, zip)\n",
    "\n",
    "def difference(alist, blist):\n",
    "    differ = []\n",
    "    if len(alist) == len(blist):\n",
    "        for i in range(0, len(alist)):\n",
    "            differ.append(alist[i] - blist[i])\n",
    "    else:\n",
    "        print(\"Error: lists not equal length\")\n",
    "        \n",
    "    return differ\n",
    "\n",
    "differences = difference(incongruent, congruent)\n",
    "difference_mean = mean(differences)\n",
    "difference_stdev = stddev(differences)\n",
    "n_diff = len(differences)\n",
    "\n",
    "print ('\\n' + \"Descriptive Statistics\")\n",
    "print(\"----------------------\" + '\\n')\n",
    "print(\"Differences:\")\n",
    "print(\"n: \" + str(n_diff))\n",
    "print(\"Mean: \" + str('{0:.2f}'.format(difference_mean)))\n",
    "print(\"Median: \" + str('{0:.2f}'.format(median(differences))))\n",
    "print(\"Standard deviation (sample): \" + str('{0:.2f}'.format(difference_stdev)))\n",
    "srange, lo, hi = range_lo_hi(differences)\n",
    "print(\"Range: \" + str('{0:.2f}'.format(srange)) + \"   Low: \" + str('{0:.2f}'.format(lo)) + \"   High: \" + \n",
    "      str('{0:.2f}'.format(hi)) + '\\n')"
   ]
  },
  {
   "cell_type": "code",
   "execution_count": 11,
   "metadata": {},
   "outputs": [
    {
     "name": "stdout",
     "output_type": "stream",
     "text": [
      "\n"
     ]
    },
    {
     "data": {
      "image/png": "[encoded data removed]",
      "text/plain": [
       "<matplotlib.figure.Figure at 0x10deb52e8>"
      ]
     },
     "metadata": {},
     "output_type": "display_data"
    }
   ],
   "source": [
    "from matplotlib.ticker import MaxNLocator\n",
    "\n",
    "n_bins = 24\n",
    "\n",
    "# Create a figure instance\n",
    "fig = plt.figure(1, figsize=(9, 6))\n",
    "\n",
    "# Create an axes instance\n",
    "ax = fig.add_subplot(111)\n",
    "\n",
    "ax.yaxis.set_major_locator(MaxNLocator(5))\n",
    "ax.xaxis.set_major_locator(MaxNLocator(12))\n",
    "ax.hist(differences, n_bins, histtype='bar', color='#66CCFF', label='Difference', rwidth=0.8, align='mid')\n",
    "ax.set_title('Distribution of the Time Difference Samples \\n', fontsize=16)\n",
    "\n",
    "plt.ylabel('Frequency \\n', fontsize=12)\n",
    "plt.xlabel('\\n Time Difference in Seconds', fontsize=12)\n",
    "\n",
    "#do not display top and right axes\n",
    "ax.spines[\"right\"].set_visible(False)\n",
    "ax.spines[\"top\"].set_visible(False)\n",
    "\n",
    "print()\n",
    "\n",
    "#fig.tight_layout()\n",
    "plt.show()"
   ]
  },
  {
   "cell_type": "markdown",
   "metadata": {},
   "source": [
    "### Histogram\n",
    "\n",
    "The time differences are skewed right. However, the two-tailed t-test we are performing is robust against the assumption of normality."
   ]
  },
  {
   "cell_type": "code",
   "execution_count": 15,
   "metadata": {},
   "outputs": [
    {
     "name": "stdout",
     "output_type": "stream",
     "text": [
      "\n"
     ]
    },
    {
     "data": {
      "image/png": "[encoded data removed]",
      "text/plain": [
       "<matplotlib.figure.Figure at 0x10d93f7b8>"
      ]
     },
     "metadata": {},
     "output_type": "display_data"
    }
   ],
   "source": [
    "data_to_plot = [differences]\n",
    "\n",
    "# Create a figure instance\n",
    "fig = plt.figure(1, figsize=(9, 7))\n",
    "\n",
    "# Create an axes instance\n",
    "ax = fig.add_subplot(111)\n",
    "ax.yaxis.set_major_locator(MaxNLocator(11))\n",
    "\n",
    "# Format the outliers\n",
    "flierprops = dict(marker='o', markerfacecolor='orange', markeredgecolor='white')\n",
    "\n",
    "# Create the boxplot\n",
    "bp = ax.boxplot(data_to_plot, flierprops=flierprops)\n",
    "\n",
    "# Add color\n",
    "plt.setp(bp['whiskers'], color='blue')\n",
    "plt.setp(bp['caps'], color = 'green')\n",
    "\n",
    "## Custom axes labels\n",
    "ax.set_xticklabels(['\\n Time Difference Samples'], fontsize=12)\n",
    "ax.yaxis.set_tick_params(labelsize=12)\n",
    "\n",
    "plt.tick_params(\n",
    "    axis='x',          # changes apply to the x-axis\n",
    "    which='both',      # both major and minor ticks are affected\n",
    "    bottom='off',      # ticks along the bottom edge are off\n",
    "    top='off'          # ticks along the top edge are off\n",
    "    )\n",
    "\n",
    "plt.ylabel('Time Difference in seconds \\n', fontsize=12)\n",
    "plt.title('Box Plot \\n', fontsize=16)\n",
    "print()\n",
    "\n",
    "plt.show()"
   ]
  },
  {
   "cell_type": "markdown",
   "metadata": {},
   "source": [
    "### Box Plot\n",
    "\n",
    "The box plot shows an outlier in the time difference samples.     \n",
    "\n",
    "## t-test\n",
    "\n",
    "Degrees of freedom: df = 23    \n",
    "We perform the test at a confidence level <span style=\"font-size: 50px;\">∝</span> = 95%   \n",
    "At this level <span style=\"font-size: 18px;\"><i> t<sub>critical</sub></i></span> = 2.069   \n",
    "t(23) = 2.07, p < .05, two-tailed"
   ]
  },
  {
   "cell_type": "code",
   "execution_count": 63,
   "metadata": {},
   "outputs": [
    {
     "name": "stdout",
     "output_type": "stream",
     "text": [
      "\n",
      "Standard error = 0.99\n",
      "t statistic = 8.02\n",
      "Confidence interval on the mean difference, 95% CI = (5.91, 10.02)\n",
      "\n",
      "Effect Size Measures\n",
      "--------------------\n",
      "\n",
      "Cohen's d = 1.64\n",
      "r squared = 0.74\n"
     ]
    }
   ],
   "source": [
    "std_error = difference_stdev / math.sqrt(n_diff)\n",
    "t_stat = (mean_incongruent - mean_congruent) / std_error\n",
    "cohens_d = (mean_incongruent - mean_congruent) / difference_stdev\n",
    "t_critical = 2.069\n",
    "margin_error = t_critical * std_error\n",
    "confidence_interval_lo = difference_mean - margin_error\n",
    "confidence_interval_hi = difference_mean + margin_error\n",
    "df = n_diff - 1\n",
    "r_squared = t_stat**2 / (t_stat**2 + df)\n",
    "\n",
    "print('\\n' + \"Standard error = \" + str('{0:.2f}'.format(std_error)))\n",
    "print(\"t statistic = \" + str('{0:.2f}'.format(t_stat)))\n",
    "print(\"Confidence interval on the mean difference, 95% CI = (\" + str('{0:.2f}'.format(confidence_interval_lo)) + \n",
    "      \", \" + str('{0:.2f}'.format(confidence_interval_hi)) + \")\")\n",
    "\n",
    "print('\\n' + \"Effect Size Measures\")\n",
    "print(\"--------------------\" + '\\n')\n",
    "print(\"Cohen's d = \" + str('{0:.2f}'.format(cohens_d)))\n",
    "print(\"r squared = \" + str('{:.2f}'.format(r_squared)))"
   ]
  },
  {
   "cell_type": "markdown",
   "metadata": {},
   "source": [
    "The two-tailed p-value is less than 0.0001   \n",
    "This p-value is substantially less than the test p-value of 0.05   \n",
    "The result is the difference in times measured is considered to be extremely statistically significant   \n",
    "We can reject the null hypothesis with 95% confidence   \n",
    "The sample means are 1.6 standard deviations apart    \n",
    "We can conclude that the incongruent test slows down response time. In fact, 74% of the time difference effect is due to the incongruent test and a person is expected to be between 6 to 10 seconds slower on the incongruent test"
   ]
  },
  {
   "cell_type": "markdown",
   "metadata": {},
   "source": [
    "## Conclusion\n",
    "\n",
    "When the text of a word and its color are congruent, it is easy to recognize the color of the text. However, when the text of the word is incongruent with the color, a conflict arises between the color and the word's meaning. The conflict is between two brain processes, word recognition and color recognition, and requires extra processing time for the brain to resolve. Due to our fluency in language, we process words faster than colors.   \n",
    "   \n",
    "In order to name the color correctly, the two processes compete for the final decision making process. The brain has to inhibit the stronger word recognition process in order to allow the color recognition to win in the final response.\n",
    "This inhibition requires selective attention (attentional focus) to inhibit the competing conflicting process. The reaction time is an indicator of the attentional process in the brain -- it increases with fatigue or inattentiveness.   \n",
    "   \n",
    "The Stroop Effect is used to indicate the mental state of attentional fatigue or the decreased ability to inhibit competing conflicts often associated with ADHD (Attention Deficit Hyperactivity Disorder). ADHD subjects often take much longer time than normal subjects to resolve the conflicts and make more errors due to the insufficient inhibition in the brain to suppress the ongoing competing processes.  \n",
    "   \n",
    "## Other Tests   \n",
    "   \n",
    "To continue investigating the Stroop effect, we could perform an experiment to measure the number of errors made by the subject for each test. We would expect the errors to increase in the incongruent test. We could then compare whether the time taken or the number of errors is the stronger effect."
   ]
  },
  {
   "cell_type": "markdown",
   "metadata": {},
   "source": [
    "## References\n",
    "\n",
    "1. Wikipedia online: Stroop effect - \n",
    "https://en.wikipedia.org/wiki/Stroop_effect\n",
    "\n",
    "2. Stroop test online: Chudler, Eric. University of Washington - \n",
    "https://faculty.washington.edu/chudler/java/ready.html\n",
    "\n",
    "3. Online publication: Tam, Nicoladie. Department of Biological Sciences, University of North Texas - \n",
    "http://biology.unt.edu/~tam/index.html   \n",
    "\n",
    "4. Stroop, J. R. (1935). Studies of interference in serial verbal reactions. Journal of Experimental Psychology,18:643-662.\n",
    "\n",
    "5. Stroop, J. R. (1938). Factors affecting speed in serial verbal reactions. Psychological Monographs, 50:38-48."
   ]
  }
 ],
 "metadata": {
  "anaconda-cloud": {},
  "kernelspec": {
   "display_name": "Python 3",
   "language": "python",
   "name": "python3"
  },
  "language_info": {
   "codemirror_mode": {
    "name": "ipython",
    "version": 3
   },
   "file_extension": ".py",
   "mimetype": "text/x-python",
   "name": "python",
   "nbconvert_exporter": "python",
   "pygments_lexer": "ipython3",
   "version": "3.7.3"
  }
 },
 "nbformat": 4,
 "nbformat_minor": 2
}
